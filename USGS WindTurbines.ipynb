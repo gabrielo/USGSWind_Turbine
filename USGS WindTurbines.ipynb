{
 "metadata": {
  "name": "",
  "signature": "sha256:239e47a00479bb4a48ba9fc3bc111bce0e4cc1ebe6bc596b7780558019eb0f55"
 },
 "nbformat": 3,
 "nbformat_minor": 0,
 "worksheets": [
  {
   "cells": [
    {
     "cell_type": "code",
     "collapsed": false,
     "input": [
      "# Create capture dir\n",
      "command = \"mkdir capture\"\n",
      "!$command    "
     ],
     "language": "python",
     "metadata": {},
     "outputs": []
    },
    {
     "cell_type": "code",
     "collapsed": false,
     "input": [
      "# Download USGS WindTurbine Data\n",
      "command = \"wget -P capture/ http://pubs.usgs.gov/ds/817/downloads/USGSWind_Turbine_03_2014.zip\"\n",
      "!$command    "
     ],
     "language": "python",
     "metadata": {},
     "outputs": []
    },
    {
     "cell_type": "code",
     "collapsed": false,
     "input": [
      "#Unzip the file\n",
      "command = \"unzip capture/USGSWind_Turbine_03_2014.zip -d capture/USGSWind_Turbine_03_2014\"\n",
      "!$command"
     ],
     "language": "python",
     "metadata": {},
     "outputs": []
    },
    {
     "cell_type": "code",
     "collapsed": false,
     "input": [
      "# Convert shapefile to geojson\n",
      "command = \"ogr2ogr -f GeoJSON -t_srs crs:84 capture/USGSWind_Turbine_03_2014/Onshore_Industrial_Wind_Turbine_Locations_for_the_United_States_to_March_2014.geojson capture/USGSWind_Turbine_03_2014/Onshore_Industrial_Wind_Turbine_Locations_for_the_United_States_to_March_2014.shp\"\n",
      "!$command"
     ],
     "language": "python",
     "metadata": {},
     "outputs": []
    },
    {
     "cell_type": "code",
     "collapsed": false,
     "input": [
      "# Convert geojson to bin\n",
      "import array, csv, datetime, json, math, random\n",
      "\n",
      "def LonLatToPixelXY(lonlat):\n",
      "    (lon, lat) = lonlat\n",
      "    x = (lon + 180.0) * 256.0 / 360.0\n",
      "    y = 128.0 - math.log(math.tan((lat + 90.0) * math.pi / 360.0)) * 128.0 / math.pi\n",
      "    return [x, y]\n",
      "\n",
      "def YearMonthDayToEpoch(year, month, day):\n",
      "  return (datetime.datetime(int(year), int(month), int(day)) - datetime.datetime(1970, 1, 1)).total_seconds()\n",
      "\n",
      "def LonLatToECEF(lonlat):\n",
      "    (lon, lat) = lonlat\n",
      "    lat = lat * (math.pi/180)\n",
      "    lon = lon * (math.pi/180)\n",
      "    x = math.cos(lat) * math.sin(lon)\n",
      "    y = math.sin(lat)\n",
      "    z = math.cos(lat)*math.cos(lon)\n",
      "    return [x,y,z]\n",
      "\n"
     ],
     "language": "python",
     "metadata": {},
     "outputs": []
    },
    {
     "cell_type": "code",
     "collapsed": false,
     "input": [
      "# Convert GeoJSON file to bin file in with x,y in Web Mercator\n",
      "f = open(\"capture/USGSWind_Turbine_03_2014/Onshore_Industrial_Wind_Turbine_Locations_for_the_United_States_to_March_2014.geojson\")\n",
      "geojson = json.load(f)\n",
      "data = []\n",
      "for feature in geojson['features']:\n",
      "    geometry = feature['geometry']\n",
      "    properties = feature['properties']\n",
      "    if properties['decommiss'] == \"no\" and properties['on_year_s'] != -99999:\n",
      "        lon = geometry['coordinates'][0]\n",
      "        lat = geometry['coordinates'][1] \n",
      "        x,y = LonLatToPixelXY([lon,lat])\n",
      "        year = properties['on_year_s']\n",
      "        month = random.randrange(1,12,1) # bogus month\n",
      "        day = random.randrange(1,28,1) # bogus day\n",
      "        epochtime = YearMonthDayToEpoch(year, month, day)\n",
      "        data += [x,y,epochtime]\n",
      "\n",
      "f.close()\n",
      "array.array('f', data).tofile(open('usgs-windturbines.bin', 'wb'))"
     ],
     "language": "python",
     "metadata": {},
     "outputs": []
    },
    {
     "cell_type": "code",
     "collapsed": false,
     "input": [
      "# Convert GeoJSON file to bin file with x,y,z in ECEF\n",
      "f = open(\"capture/USGSWind_Turbine_03_2014/Onshore_Industrial_Wind_Turbine_Locations_for_the_United_States_to_March_2014.geojson\")\n",
      "geojson = json.load(f)\n",
      "data = []\n",
      "for feature in geojson['features']:\n",
      "    geometry = feature['geometry']\n",
      "    properties = feature['properties']\n",
      "    if properties['decommiss'] == \"no\" and properties['on_year_s'] != -99999:\n",
      "        lon = geometry['coordinates'][0]\n",
      "        lat = geometry['coordinates'][1] \n",
      "        x,y,z = LonLatToECEF([lon,lat])\n",
      "        year = properties['on_year_s']\n",
      "        month = random.randrange(1,12,1) # bogus month\n",
      "        day = random.randrange(1,28,1) # bogus day\n",
      "        epochtime = YearMonthDayToEpoch(year, month, day)\n",
      "        data += [x,y,z,epochtime]\n",
      "\n",
      "f.close()\n",
      "array.array('f', data).tofile(open('usgs-windturbines-ecef.bin', 'wb'))"
     ],
     "language": "python",
     "metadata": {},
     "outputs": []
    },
    {
     "cell_type": "code",
     "collapsed": false,
     "input": [],
     "language": "python",
     "metadata": {},
     "outputs": []
    }
   ],
   "metadata": {}
  }
 ]
}