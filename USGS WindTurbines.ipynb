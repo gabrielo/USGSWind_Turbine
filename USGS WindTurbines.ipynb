{
 "metadata": {
  "name": "",
  "signature": "sha256:51bf8448abc4390333541ea6ccea45d1f93ff5570aa0778bfcdc297b29711495"
 },
 "nbformat": 3,
 "nbformat_minor": 0,
 "worksheets": [
  {
   "cells": [
    {
     "cell_type": "code",
     "collapsed": false,
     "input": [
      "# Download USGS WindTurbine Data\n",
      "command = \"wget -P capture/ http://pubs.usgs.gov/ds/817/downloads/USGSWind_Turbine_03_2014.zip\"\n",
      "!$command    "
     ],
     "language": "python",
     "metadata": {},
     "outputs": [
      {
       "output_type": "stream",
       "stream": "stdout",
       "text": [
        "--2016-01-10 20:57:17--  http://pubs.usgs.gov/ds/817/downloads/USGSWind_Turbine_03_2014.zip\r\n",
        "Resolving pubs.usgs.gov... "
       ]
      },
      {
       "output_type": "stream",
       "stream": "stdout",
       "text": [
        "137.227.232.151, 137.227.241.90, 137.227.241.91, ...\r\n",
        "Connecting to pubs.usgs.gov|137.227.232.151|:80... "
       ]
      },
      {
       "output_type": "stream",
       "stream": "stdout",
       "text": [
        "connected.\r\n",
        "HTTP request sent, awaiting response... "
       ]
      },
      {
       "output_type": "stream",
       "stream": "stdout",
       "text": [
        "200 OK\r\n",
        "Length: 9809813 (9.4M) [application/x-octet-stream]\r\n",
        "Saving to: 'capture/USGSWind_Turbine_03_2014.zip.1'\r\n",
        "\r\n",
        "\r",
        "          USGSWind_   0%[                      ]       0  --.-KB/s             "
       ]
      },
      {
       "output_type": "stream",
       "stream": "stdout",
       "text": [
        "\r",
        "         USGSWind_T   0%[                      ]   1.21K  3.68KB/s             "
       ]
      },
      {
       "output_type": "stream",
       "stream": "stdout",
       "text": [
        "\r",
        "        USGSWind_Tu   0%[                      ]  63.61K   107KB/s             "
       ]
      },
      {
       "output_type": "stream",
       "stream": "stdout",
       "text": [
        "\r",
        "       USGSWind_Tur   2%[                      ] 219.57K   275KB/s             "
       ]
      },
      {
       "output_type": "stream",
       "stream": "stdout",
       "text": [
        "\r",
        "      USGSWind_Turb   5%[>                     ] 539.95K   540KB/s             "
       ]
      },
      {
       "output_type": "stream",
       "stream": "stdout",
       "text": [
        "\r",
        "     USGSWind_Turbi  10%[=>                    ] 964.31K   803KB/s             "
       ]
      },
      {
       "output_type": "stream",
       "stream": "stdout",
       "text": [
        "\r",
        "    USGSWind_Turbin  13%[==>                   ]   1.28M   816KB/s             "
       ]
      },
      {
       "output_type": "stream",
       "stream": "stdout",
       "text": [
        "\r",
        "   USGSWind_Turbine  21%[===>                  ]   2.02M  1.12MB/s             "
       ]
      },
      {
       "output_type": "stream",
       "stream": "stdout",
       "text": [
        "\r",
        "  USGSWind_Turbine_  25%[====>                 ]   2.38M  1.19MB/s             "
       ]
      },
      {
       "output_type": "stream",
       "stream": "stdout",
       "text": [
        "\r",
        " USGSWind_Turbine_0  29%[=====>                ]   2.74M  1.24MB/s             "
       ]
      },
      {
       "output_type": "stream",
       "stream": "stdout",
       "text": [
        "\r",
        "USGSWind_Turbine_03  33%[======>               ]   3.10M  1.29MB/s             "
       ]
      },
      {
       "output_type": "stream",
       "stream": "stdout",
       "text": [
        "\r",
        "SGSWind_Turbine_03_  37%[=======>              ]   3.47M  1.33MB/s             "
       ]
      },
      {
       "output_type": "stream",
       "stream": "stdout",
       "text": [
        "\r",
        "GSWind_Turbine_03_2  40%[=======>              ]   3.82M  1.36MB/s             "
       ]
      },
      {
       "output_type": "stream",
       "stream": "stdout",
       "text": [
        "\r",
        "SWind_Turbine_03_20  44%[========>             ]   4.19M  1.39MB/s   eta 4s    "
       ]
      },
      {
       "output_type": "stream",
       "stream": "stdout",
       "text": [
        "\r",
        "Wind_Turbine_03_201  48%[=========>            ]   4.55M  1.42MB/s   eta 4s    "
       ]
      },
      {
       "output_type": "stream",
       "stream": "stdout",
       "text": [
        "\r",
        "ind_Turbine_03_2014  52%[==========>           ]   4.90M  1.44MB/s   eta 4s    "
       ]
      },
      {
       "output_type": "stream",
       "stream": "stdout",
       "text": [
        "\r",
        "nd_Turbine_03_2014.  53%[==========>           ]   4.96M  1.48MB/s   eta 4s    "
       ]
      },
      {
       "output_type": "stream",
       "stream": "stdout",
       "text": [
        "\r",
        "d_Turbine_03_2014.z  61%[============>         ]   5.75M  1.70MB/s   eta 4s    "
       ]
      },
      {
       "output_type": "stream",
       "stream": "stdout",
       "text": [
        "\r",
        "_Turbine_03_2014.zi  65%[=============>        ]   6.11M  1.77MB/s   eta 2s    "
       ]
      },
      {
       "output_type": "stream",
       "stream": "stdout",
       "text": [
        "\r",
        "Turbine_03_2014.zip  69%[==============>       ]   6.47M  1.79MB/s   eta 2s    "
       ]
      },
      {
       "output_type": "stream",
       "stream": "stdout",
       "text": [
        "\r",
        "urbine_03_2014.zip.  72%[===============>      ]   6.82M  1.79MB/s   eta 2s    "
       ]
      },
      {
       "output_type": "stream",
       "stream": "stdout",
       "text": [
        "\r",
        "rbine_03_2014.zip.1  76%[===============>      ]   7.17M  1.79MB/s   eta 2s    "
       ]
      },
      {
       "output_type": "stream",
       "stream": "stdout",
       "text": [
        "\r",
        "bine_03_2014.zip.1   80%[================>     ]   7.49M  1.89MB/s   eta 2s    "
       ]
      },
      {
       "output_type": "stream",
       "stream": "stdout",
       "text": [
        "\r",
        "ine_03_2014.zip.1    83%[=================>    ]   7.85M  1.78MB/s   eta 1s    "
       ]
      },
      {
       "output_type": "stream",
       "stream": "stdout",
       "text": [
        "\r",
        "ne_03_2014.zip.1     86%[==================>   ]   8.11M  1.74MB/s   eta 1s    "
       ]
      },
      {
       "output_type": "stream",
       "stream": "stdout",
       "text": [
        "\r",
        "e_03_2014.zip.1      86%[==================>   ]   8.12M  1.61MB/s   eta 1s    "
       ]
      },
      {
       "output_type": "stream",
       "stream": "stdout",
       "text": [
        "\r",
        "_03_2014.zip.1       92%[===================>  ]   8.63M  1.65MB/s   eta 1s    "
       ]
      },
      {
       "output_type": "stream",
       "stream": "stdout",
       "text": [
        "\r",
        "03_2014.zip.1        95%[===================>  ]   8.93M  1.64MB/s   eta 1s    "
       ]
      },
      {
       "output_type": "stream",
       "stream": "stdout",
       "text": [
        "\r",
        "3_2014.zip.1         99%[====================> ]   9.27M  1.63MB/s   eta 0s    "
       ]
      },
      {
       "output_type": "stream",
       "stream": "stdout",
       "text": [
        "\r",
        "USGSWind_Turbine_03 100%[=====================>]   9.35M  1.61MB/s   in 6.2s   \r\n",
        "\r\n"
       ]
      },
      {
       "output_type": "stream",
       "stream": "stdout",
       "text": [
        "2016-01-10 20:57:24 (1.50 MB/s) - 'capture/USGSWind_Turbine_03_2014.zip.1' saved [9809813/9809813]\r\n",
        "\r\n"
       ]
      }
     ],
     "prompt_number": 1
    },
    {
     "cell_type": "code",
     "collapsed": false,
     "input": [
      "#Unzip the file\n",
      "command = \"unzip capture/USGSWind_Turbine_03_2014.zip -d capture/USGSWind_Turbine_03_2014\"\n",
      "!$command"
     ],
     "language": "python",
     "metadata": {},
     "outputs": [
      {
       "output_type": "stream",
       "stream": "stdout",
       "text": [
        "Archive:  capture/USGSWind_Turbine_03_2014.zip\r\n",
        " extracting: capture/USGSWind_Turbine_03_2014/Onshore_Industrial_Wind_Turbine_Locations_for_the_United_States_to_March_2014.cpg  \r\n",
        "  inflating: capture/USGSWind_Turbine_03_2014/Onshore_Industrial_Wind_Turbine_Locations_for_the_United_States_to_March_2014.dbf  "
       ]
      },
      {
       "output_type": "stream",
       "stream": "stdout",
       "text": [
        "\r\n",
        "  inflating: capture/USGSWind_Turbine_03_2014/Onshore_Industrial_Wind_Turbine_Locations_for_the_United_States_to_March_2014.prj  \r\n",
        "  inflating: capture/USGSWind_Turbine_03_2014/Onshore_Industrial_Wind_Turbine_Locations_for_the_United_States_to_March_2014.sbn  \r\n",
        "  inflating: capture/USGSWind_Turbine_03_2014/Onshore_Industrial_Wind_Turbine_Locations_for_the_United_States_to_March_2014.sbx  \r\n",
        "  inflating: capture/USGSWind_Turbine_03_2014/Onshore_Industrial_Wind_Turbine_Locations_for_the_United_States_to_March_2014.shp  \r\n",
        "  inflating: capture/USGSWind_Turbine_03_2014/Onshore_Industrial_Wind_Turbine_Locations_for_the_United_States_to_March_2014.shp.xml  \r\n",
        "  inflating: capture/USGSWind_Turbine_03_2014/Onshore_Industrial_Wind_Turbine_Locations_for_the_United_States_to_March_2014.shx  \r\n",
        "  inflating: capture/USGSWind_Turbine_03_2014/Onshore_Industrial_Wind_Turbine_Locations_for_the_United_States_to_March_2014.xlsx  "
       ]
      },
      {
       "output_type": "stream",
       "stream": "stdout",
       "text": [
        "\r\n"
       ]
      }
     ],
     "prompt_number": 2
    },
    {
     "cell_type": "code",
     "collapsed": false,
     "input": [
      "# Convert shapefile to gwojson\n",
      "command = \"ogr2ogr -f GeoJSON -t_srs crs:84 capture/USGSWind_Turbine_03_2014/Onshore_Industrial_Wind_Turbine_Locations_for_the_United_States_to_March_2014.geojson capture/USGSWind_Turbine_03_2014/Onshore_Industrial_Wind_Turbine_Locations_for_the_United_States_to_March_2014.shp\"\n",
      "!$command"
     ],
     "language": "python",
     "metadata": {},
     "outputs": [],
     "prompt_number": 4
    },
    {
     "cell_type": "code",
     "collapsed": false,
     "input": [
      "# Convert geojson to bin\n",
      "import array, csv, datetime, json, math, random\n",
      "\n",
      "def LonLatToPixelXY(lonlat):\n",
      "    (lon, lat) = lonlat\n",
      "    x = (lon + 180.0) * 256.0 / 360.0\n",
      "    y = 128.0 - math.log(math.tan((lat + 90.0) * math.pi / 360.0)) * 128.0 / math.pi\n",
      "    return [x, y]\n",
      "\n",
      "def YearMonthDayToEpoch(year, month, day):\n",
      "  return (datetime.datetime(int(year), int(month), int(day)) - datetime.datetime(1970, 1, 1)).total_seconds()\n",
      "\n",
      "\n"
     ],
     "language": "python",
     "metadata": {},
     "outputs": [],
     "prompt_number": 24
    },
    {
     "cell_type": "code",
     "collapsed": false,
     "input": [
      "f = open(\"capture/USGSWind_Turbine_03_2014/Onshore_Industrial_Wind_Turbine_Locations_for_the_United_States_to_March_2014.geojson\")\n",
      "geojson = json.load(f)\n",
      "data = []\n",
      "for feature in geojson['features']:\n",
      "    geometry = feature['geometry']\n",
      "    properties = feature['properties']\n",
      "    if properties['decommiss'] == \"no\" and properties['on_year_s'] != -99999:\n",
      "        lon = geometry['coordinates'][0]\n",
      "        lat = geometry['coordinates'][1] \n",
      "        x,y = LonLatToPixelXY([lon,lat])\n",
      "        year = properties['on_year_s']\n",
      "        month = random.randrange(1,12,1) # bogus month\n",
      "        day = random.randrange(1,28,1) # bogus day\n",
      "        epochtime = YearMonthDayToEpoch(year, month, day)\n",
      "        data += [x,y,epochtime]\n",
      "\n",
      "f.close()\n",
      "array.array('f', data).tofile(open('usgs-windturbines.bin', 'wb'))"
     ],
     "language": "python",
     "metadata": {},
     "outputs": []
    }
   ],
   "metadata": {}
  }
 ]
}